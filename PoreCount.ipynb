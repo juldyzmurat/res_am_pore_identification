{
 "cells": [
  {
   "cell_type": "code",
   "execution_count": 1,
   "id": "f40bb4b9-b4d0-4a3a-abc6-d330ac7eb324",
   "metadata": {},
   "outputs": [
    {
     "data": {
      "text/plain": [
       "<matplotlib.collections.PathCollection at 0x7efeb1e4b6d0>"
      ]
     },
     "execution_count": 1,
     "metadata": {},
     "output_type": "execute_result"
    },
    {
     "data": {
      "image/png": "[encoded data removed]",
      "text/plain": [
       "<Figure size 432x288 with 1 Axes>"
      ]
     },
     "metadata": {
      "needs_background": "light"
     },
     "output_type": "display_data"
    }
   ],
   "source": [
    "#import contour data \n",
    "import pandas as pd\n",
    "data1 = pd.read_csv(\"/home/zxu4/CSE_MSE_RXF131/staging/mdle/C-lpbf/c-lpbf-ingestion/radi_list/666-715coord.csv\").to_numpy()\n",
    "#import LLNL data \n",
    "import pandas as pd\n",
    "llblarr = pd.read_excel(r'/home/zxu4/CSE_MSE_RXF131/staging/mdle/C-lpbf/c-lpbf-ingestion/pore/180623_pyro_ML111417_start_end_turn_steady.xlsx')\n",
    "#getting rid of image border \n",
    "trydf = data1[((data1[:,0]>5)&(data1[:,0]<(max(data1[:,0])-5)))&((data1[:,1]>5)&(data1[:,1]<(max(data1[:,1])-5)))]\n",
    "#visualisation of the dataset that's going to analyzed\n",
    "rawdata = trydf\n",
    "#grouping points into pores\n",
    "import scipy.cluster.hierarchy as hcluster\n",
    "from sklearn.cluster import KMeans\n",
    "import numpy as np\n",
    "#number of pores per track\n",
    "countpores = []\n",
    "#coordinates of pores on each track\n",
    "pores = []\n",
    "for i in range(5):\n",
    "    if (i != 0 & i!=4) :\n",
    "        y1 = (max(rawdata[:,1])/8)*(2*i-1) \n",
    "        y2 = (max(rawdata[:,1])/8)*(2*i+1)\n",
    "    elif i==0:\n",
    "        y1 = min(rawdata[:,1])\n",
    "        y2 = max(rawdata[:,1])/8\n",
    "    else:\n",
    "        y1 = (max(rawdata[:,1])/8)*(2*i-1) \n",
    "        y2 = max(rawdata[:,1])\n",
    "    for p in range(12):\n",
    "        if (p != 0 & p!=11):\n",
    "            x1 = (max(rawdata[:,0])/22)*(2*p-1) \n",
    "            x2 = (max(rawdata[:,0])/22)*(2*p+1)\n",
    "        elif p==0:\n",
    "            x1 = min(rawdata[:,0])\n",
    "            x2 = max(rawdata[:,0])/22\n",
    "        else :\n",
    "            x1 = (max(rawdata[:,0])/22)*(2*p-1)\n",
    "            x2 = max(rawdata[:,0])\n",
    "              \n",
    "        b = rawdata[((x1<=rawdata[:,0]) & (rawdata[:,0]<=x2)) & ((y1<=rawdata[:,1]) & (rawdata[:,1]<=y2))]\n",
    "        if b.size != 0:  \n",
    "            clusterdata = np.column_stack((b[:,0] , b[:,1]))\n",
    "            # clustering\n",
    "            thresh = 10\n",
    "            clusters = hcluster.fclusterdata(clusterdata, thresh, criterion=\"distance\")\n",
    "            countpores.append(len(set(clusters)))\n",
    "            kmeans = KMeans(n_clusters= len(set(clusters)),algorithm = 'full')\n",
    "            kmeans.fit_predict(clusterdata)\n",
    "            pores.append(kmeans.cluster_centers_)\n",
    "\n",
    "        else:\n",
    "            countpores.append(0)\n",
    "            pores.append(\"_\")\n",
    "countporesdf = pd.DataFrame()\n",
    "countporesdf['nbrPoresPerTrck'] = countpores\n",
    "countporesdf['poreCoord'] = pores\n",
    "#dropping tracks not included into LLNL dataset\n",
    "df3 = countporesdf.drop([0,1,12,13,24,25,36,37,48,49])\n",
    "df3 = df3.reset_index(drop=True)\n",
    "compare = df3['nbrPoresPerTrck']\n",
    "poresllnlarr1 = np.array(poresllnl).reshape((10, 5))\n",
    "poresllnlarr2 = np.transpose(poresllnlarr1)\n",
    "poresarr1 = np.array(compare).reshape((5, 10))\n",
    "poresllnlarr3 = poresllnlarr2.reshape((50,1))\n",
    "poresarr2 = poresarr1.reshape((50,1))\n",
    "#print r_2 score\n",
    "print(\"R2_score:\",sklearn.metrics.r2_score(poresllnlarr3,poresarr2))\n",
    "cords = [por for por in pores if por != '_' ]\n",
    "cordsnew = np.vstack(cords)\n",
    "countporesdf.to_csv(r'/home/zxu4/CSE_MSE_RXF131/staging/mdle/C-lpbf/c-lpbf-ingestion/radi_list/666-715coord_and_porecount.csv')\n",
    "np.savetxt(r'/home/zxu4/CSE_MSE_RXF131/staging/mdle/C-lpbf/c-lpbf-ingestion/radi_list/666-715centroid_coord.txt', cordsnew)"
   ]
  },
  {
   "cell_type": "markdown",
   "id": "efb47fb8-5934-4367-8a6e-e9fc27d52a21",
   "metadata": {
    "jupyter": {
     "outputs_hidden": false
    },
    "pycharm": {
     "name": "#%%\n"
    }
   },
   "source": [
    "automate "
   ]
  },
  {
   "cell_type": "code",
   "execution_count": 4,
   "id": "61be21dd-6d04-48b7-a32d-e8390c8e261f",
   "metadata": {},
   "outputs": [],
   "source": [
    "#import contour data \n",
    "import pandas as pd\n",
    "data1 = pd.read_csv(\"/home/zxu4/CSE_MSE_RXF131/staging/mdle/C-lpbf/c-lpbf-ingestion/radi_list/666-715coord.csv\").to_numpy()\n",
    "#import LLNL data \n",
    "import pandas as pd\n",
    "llblarr = pd.read_excel(r'/home/zxu4/CSE_MSE_RXF131/staging/mdle/C-lpbf/c-lpbf-ingestion/pore/180623_pyro_ML111417_start_end_turn_steady.xlsx')\n",
    "#getting rid of image border \n",
    "trydf = data1[((data1[:,0]>5)&(data1[:,0]<(max(data1[:,0])-5)))&((data1[:,1]>5)&(data1[:,1]<(max(data1[:,1])-5)))]\n",
    "#visualisation of the dataset that's going to analyzed\n",
    "rawdata = trydf\n",
    "#grouping points into pores\n",
    "import sklearn.cluster\n",
    "from math import sqrt\n",
    "import scipy.cluster.hierarchy as hcluster\n",
    "from sklearn.cluster import KMeans\n",
    "from sklearn.metrics import mean_squared_error\n",
    "from sklearn.metrics import mean_absolute_error\n",
    "\n",
    "import numpy as np\n",
    "#number of pores per track\n",
    "column_names = [\"thresh\", \"r_2\",\"mse\",\"rmse\",\"mae\"]\n",
    "hlcuster = pd.DataFrame(columns = column_names)\n",
    "def ML(thresh):\n",
    "    countpores = []\n",
    "    #coordinates of pores on each track\n",
    "    for i in range(5):\n",
    "        if (i != 0 & i!=4) :\n",
    "            y1 = (max(rawdata[:,1])/8)*(2*i-1) \n",
    "            y2 = (max(rawdata[:,1])/8)*(2*i+1)\n",
    "        elif i==0:\n",
    "            y1 = min(rawdata[:,1])\n",
    "            y2 = max(rawdata[:,1])/8\n",
    "        else:\n",
    "            y1 = (max(rawdata[:,1])/8)*(2*i-1) \n",
    "            y2 = max(rawdata[:,1])\n",
    "        for p in range(12):\n",
    "            if (p != 0 & p!=11):\n",
    "                x1 = (max(rawdata[:,0])/22)*(2*p-1) \n",
    "                x2 = (max(rawdata[:,0])/22)*(2*p+1)\n",
    "            elif p==0:\n",
    "                x1 = min(rawdata[:,0])\n",
    "                x2 = max(rawdata[:,0])/22\n",
    "            else :\n",
    "                x1 = (max(rawdata[:,0])/22)*(2*p-1)\n",
    "                x2 = max(rawdata[:,0])\n",
    "\n",
    "            b = rawdata[((x1<=rawdata[:,0]) & (rawdata[:,0]<=x2)) & ((y1<=rawdata[:,1]) & (rawdata[:,1]<=y2))]\n",
    "            if b.size != 0:  \n",
    "                clusterdata = np.column_stack((b[:,0] , b[:,1]))\n",
    "                # clustering\n",
    "                clusters = hcluster.fclusterdata(clusterdata, thresh, criterion=\"distance\")\n",
    "                countpores.append(len(set(clusters)))\n",
    "            else:\n",
    "                countpores.append(0)\n",
    "    #dropping tracks not included into LLNL dataset\n",
    "    countporesdf = pd.DataFrame()\n",
    "    poresllnl = llblarr[' nbrPoresPerTrck']\n",
    "    countporesdf['nbrPoresPerTrck'] = countpores\n",
    "    #dropping tracks not included into LLNL dataset\n",
    "    df3 = countporesdf.drop([0,1,12,13,24,25,36,37,48,49])\n",
    "    df3 = df3.reset_index(drop=True)\n",
    "    compare = df3['nbrPoresPerTrck']\n",
    "    poresllnlarr1 = np.array(poresllnl).reshape((10, 5))\n",
    "    poresllnlarr2 = np.transpose(poresllnlarr1)\n",
    "    poresarr1 = np.array(compare).reshape((5, 10))\n",
    "    poresllnlarr3 = poresllnlarr2.reshape((50,1))\n",
    "    poresarr2 = poresarr1.reshape((50,1))\n",
    "    hlcuster.loc[len(hlcuster.index)] = ['%.1f' % thresh, '%.3f' % sklearn.metrics.r2_score(poresllnlarr3,poresarr2), '%.3f' % mean_squared_error(poresllnlarr3,poresarr2), '%.3f' % sqrt(mean_squared_error(poresllnlarr3,poresarr2)), '%.3f' % mean_absolute_error(poresllnlarr3,poresarr2)] \n",
    "\n",
    "for i in range (10,301):\n",
    "    ML(i*0.1)\n",
    "    "
   ]
  },
  {
   "cell_type": "code",
   "execution_count": 17,
   "id": "228e3111-9ba6-4b44-be08-17ea19195773",
   "metadata": {},
   "outputs": [
    {
     "data": {
      "text/plain": [
       "247942"
      ]
     },
     "execution_count": 17,
     "metadata": {},
     "output_type": "execute_result"
    }
   ],
   "source": [
    "#import contour data \n",
    "import pandas as pd\n",
    "data1 = pd.read_csv(\"/home/zxu4/CSE_MSE_RXF131/staging/mdle/C-lpbf/c-lpbf-ingestion/radi_list/666-715coord.csv\").to_numpy()\n",
    "#import LLNL data \n",
    "import pandas as pd\n",
    "llblarr = pd.read_excel(r'/home/zxu4/CSE_MSE_RXF131/staging/mdle/C-lpbf/c-lpbf-ingestion/pore/180623_pyro_ML111417_start_end_turn_steady.xlsx')\n",
    "#getting rid of image border \n",
    "trydf = data1[((data1[:,0]>5)&(data1[:,0]<(max(data1[:,0])-5)))&((data1[:,1]>5)&(data1[:,1]<(max(data1[:,1])-5)))]\n",
    "#visualisation of the dataset that's going to analyzed\n",
    "rawdata = trydf\n",
    "rawdata.size"
   ]
  },
  {
   "cell_type": "code",
   "execution_count": 18,
   "id": "3ce1fee4-6c66-4fd4-a047-a8cfee1fda99",
   "metadata": {},
   "outputs": [
    {
     "data": {
      "text/plain": [
       "numpy.ndarray"
      ]
     },
     "execution_count": 18,
     "metadata": {},
     "output_type": "execute_result"
    }
   ],
   "source": [
    "type(rawdata)"
   ]
  },
  {
   "cell_type": "code",
   "execution_count": 19,
   "id": "c51d3858-6041-4415-99ef-ab2eb87ce3ca",
   "metadata": {},
   "outputs": [
    {
     "data": {
      "text/plain": [
       "array([[6.00000e+00, 7.96970e+03],\n",
       "       [7.00000e+00, 7.96970e+03],\n",
       "       [8.00000e+00, 7.96970e+03],\n",
       "       ...,\n",
       "       [4.10000e+03, 1.01683e+04],\n",
       "       [4.09900e+03, 1.01683e+04],\n",
       "       [4.09800e+03, 1.01683e+04]])"
      ]
     },
     "execution_count": 19,
     "metadata": {},
     "output_type": "execute_result"
    }
   ],
   "source": [
    "rawdata"
   ]
  },
  {
   "cell_type": "code",
   "execution_count": 21,
   "id": "cde16138-64fd-4f0d-b071-4ef177a7150a",
   "metadata": {},
   "outputs": [
    {
     "data": {
      "text/plain": [
       "247942"
      ]
     },
     "execution_count": 21,
     "metadata": {},
     "output_type": "execute_result"
    }
   ],
   "source": [
    "rawdata.size"
   ]
  },
  {
   "cell_type": "code",
   "execution_count": 22,
   "id": "818ea352-786f-43bc-809c-ba4de9976b9c",
   "metadata": {},
   "outputs": [
    {
     "data": {
      "text/plain": [
       "123971"
      ]
     },
     "execution_count": 22,
     "metadata": {},
     "output_type": "execute_result"
    }
   ],
   "source": [
    "len(rawdata)"
   ]
  },
  {
   "cell_type": "code",
   "execution_count": 2,
   "id": "7ce8eab7-9e81-47d8-8986-8a34ad68b63f",
   "metadata": {},
   "outputs": [],
   "source": [
    "\n",
    "#grouping points into pores\n",
    "import sklearn.cluster\n",
    "from sklearn.metrics import mean_squared_error\n",
    "import numpy as np\n",
    "from sklearn import metrics\n",
    "from sklearn.cluster import MeanShift\n",
    "#import contour data \n",
    "import pandas as pd\n",
    "data1 = pd.read_csv(\"/home/zxu4/CSE_MSE_RXF131/staging/mdle/C-lpbf/c-lpbf-ingestion/radi_list/666-715coord.csv\").to_numpy()\n",
    "#import LLNL data \n",
    "llblarr = pd.read_excel(r'/home/zxu4/CSE_MSE_RXF131/staging/mdle/C-lpbf/c-lpbf-ingestion/pore/180623_pyro_ML111417_start_end_turn_steady.xlsx')\n",
    "#getting rid of image border \n",
    "trydf = data1[((data1[:,0]>5)&(data1[:,0]<(max(data1[:,0])-5)))&((data1[:,1]>5)&(data1[:,1]<(max(data1[:,1])-5)))]\n",
    "#visualisation of the dataset that's going to analyzed\n",
    "rawdata = trydf"
   ]
  },
  {
   "cell_type": "code",
   "execution_count": null,
   "id": "a4fa2bfd-b49a-4907-85e5-1fe10f2951e6",
   "metadata": {},
   "outputs": [],
   "source": [
    "countpores = []\n",
    "def getx(i):\n",
    "    if (i != 0 & i!=4) :\n",
    "        y1 = (max(rawdata[:,1])/8)*(2*i-1) \n",
    "        y2 = (max(rawdata[:,1])/8)*(2*i+1)\n",
    "    elif i==0:\n",
    "        y1 = min(rawdata[:,1])\n",
    "        y2 = max(rawdata[:,1])/8\n",
    "    else:\n",
    "        y1 = (max(rawdata[:,1])/8)*(2*i-1) \n",
    "        y2 = max(rawdata[:,1])\n",
    "\n",
    "for i in range(5):\n",
    "    print(\"1\")\n",
    "    if (i != 0 & i!=4) :\n",
    "        y1 = (max(rawdata[:,1])/8)*(2*i-1) \n",
    "        y2 = (max(rawdata[:,1])/8)*(2*i+1)\n",
    "    elif i==0:\n",
    "        y1 = min(rawdata[:,1])\n",
    "        y2 = max(rawdata[:,1])/8\n",
    "    else:\n",
    "        y1 = (max(rawdata[:,1])/8)*(2*i-1) \n",
    "        y2 = max(rawdata[:,1])\n",
    "    for p in range(12):\n",
    "        \n",
    "        if (p != 0 & p!=11):\n",
    "            x1 = (max(rawdata[:,0])/22)*(2*p-1)\n",
    "            x2 = (max(rawdata[:,0])/22)*(2*p+1)\n",
    "            print(\"2\")\n",
    "        elif p==0:\n",
    "            x1 = min(rawdata[:,0])\n",
    "            x2 = max(rawdata[:,0])/22\n",
    "            print(\"2\")\n",
    "        else :\n",
    "            x1 = (max(rawdata[:,0])/22)*(2*p-1)\n",
    "            x2 = max(rawdata[:,0])\n",
    "            print(\"2\")\n",
    "        b = rawdata[((x1<=rawdata[:,0]) & (rawdata[:,0]<=x2)) & ((y1<=rawdata[:,1]) & (rawdata[:,1]<=y2))]\n",
    "        if b.size != 0:\n",
    "            clusterdata = np.column_stack((b[:,0] , b[:,1]))\n",
    "            # clustering\n",
    "            ms = MeanShift()\n",
    "            ms.fit(clusterdata)\n",
    "            cluster_centers = ms.cluster_centers_\n",
    "            # Number of clusters in labels, ignoring noise if present.\n",
    "            countpores.append(len(cluster_centers))\n",
    "        else:\n",
    "            countpores.append(0)\n",
    "#dropping tracks not included into LLNL dataset\n",
    "countporesdf = pd.DataFrame()\n",
    "poresllnl = llblarr[' nbrPoresPerTrck']\n",
    "countporesdf['nbrPoresPerTrck'] = countpores\n",
    "#dropping tracks not included into LLNL dataset\n",
    "df3 = countporesdf.drop([0,1,12,13,24,25,36,37,48,49])\n",
    "df3 = df3.reset_index(drop=True)\n",
    "compare = df3['nbrPoresPerTrck']\n",
    "poresllnlarr1 = np.array(poresllnl).reshape((10, 5))\n",
    "poresllnlarr2 = np.transpose(poresllnlarr1)\n",
    "poresarr1 = np.array(compare).reshape((5, 10))\n",
    "poresllnlarr3 = poresllnlarr2.reshape((50,1))\n",
    "poresarr2 = poresarr1.reshape((50,1))\n",
    "print(thresh,\"; R2_score:\",sklearn.metrics.r2_score(poresllnlarr3,poresarr2),\"sqr:\",mean_squared_error(poresllnlarr3,poresarr2))"
   ]
  },
  {
   "cell_type": "code",
   "execution_count": null,
   "id": "6d2c14ce-25ec-4730-9887-10a9f4161198",
   "metadata": {},
   "outputs": [],
   "source": []
  },
  {
   "cell_type": "code",
   "execution_count": 6,
   "id": "056b3aa0-c02c-492b-b627-483307a7beab",
   "metadata": {},
   "outputs": [],
   "source": [
    "hlcuster.to_csv(\"/home/zxu4/CSE_MSE_RXF131/staging/mdle/C-lpbf/c-lpbf-ingestion/radi_list/ML_hluster.csv\")"
   ]
  },
  {
   "cell_type": "code",
   "execution_count": 7,
   "id": "9f9f63a4-6981-47b4-84a4-fd649319a09d",
   "metadata": {},
   "outputs": [
    {
     "data": {
      "text/plain": [
       "'0.905'"
      ]
     },
     "execution_count": 7,
     "metadata": {},
     "output_type": "execute_result"
    }
   ],
   "source": [
    "max(hlcuster.r_2)"
   ]
  },
  {
   "cell_type": "code",
   "execution_count": null,
   "id": "1e5d2af2-2b73-4db9-8fb8-dea9b0f66954",
   "metadata": {},
   "outputs": [],
   "source": []
  }
 ],
 "metadata": {
  "kernelspec": {
   "display_name": "Python 3 (ipykernel)",
   "language": "python",
   "name": "python3"
  },
  "language_info": {
   "codemirror_mode": {
    "name": "ipython",
    "version": 3
   },
   "file_extension": ".py",
   "mimetype": "text/x-python",
   "name": "python",
   "nbconvert_exporter": "python",
   "pygments_lexer": "ipython3",
   "version": "3.8.10"
  }
 },
 "nbformat": 4,
 "nbformat_minor": 5
}
